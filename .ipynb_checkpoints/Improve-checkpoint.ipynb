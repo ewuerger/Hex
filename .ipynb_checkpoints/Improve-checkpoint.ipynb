{
 "cells": [
  {
   "cell_type": "code",
   "execution_count": 1,
   "metadata": {},
   "outputs": [],
   "source": [
    "import numpy as np\n",
    "import random\n",
    "import datetime\n",
    "import os\n",
    "from collections import deque"
   ]
  },
  {
   "cell_type": "code",
   "execution_count": 2,
   "metadata": {},
   "outputs": [],
   "source": [
    "from hexboard import HexBoard\n",
    "from MCTS import MCTS, getLegalMoves, copy, goalValue\n",
    "from nextki import HexKI\n",
    "from Game import Game"
   ]
  },
  {
   "cell_type": "code",
   "execution_count": 3,
   "metadata": {},
   "outputs": [],
   "source": [
    "import cProfile\n",
    "from numba import jit\n",
    "import timeit"
   ]
  },
  {
   "cell_type": "code",
   "execution_count": 16,
   "metadata": {
    "scrolled": true
   },
   "outputs": [
    {
     "name": "stdout",
     "output_type": "stream",
     "text": [
      "         77606024 function calls (77586024 primitive calls) in 52.408 seconds\n",
      "\n",
      "   Ordered by: standard name\n",
      "\n",
      "   ncalls  tottime  percall  cumtime  percall filename:lineno(function)\n",
      "        1    0.000    0.000   52.408   52.408 <string>:1(<module>)\n",
      "    30992    0.020    0.000    0.020    0.000 MCTS.py:119(Backprop)\n",
      "        1    0.095    0.095   52.408   52.408 MCTS.py:133(MCTS)\n",
      "    10000    0.022    0.000    0.048    0.000 MCTS.py:16(addChildren)\n",
      "      121    0.000    0.000    0.000    0.000 MCTS.py:175(<lambda>)\n",
      "    20992    0.008    0.000    0.008    0.000 MCTS.py:28(isExpanded)\n",
      "    20992    0.017    0.000    0.212    0.000 MCTS.py:34(isTerminal)\n",
      "    10992    0.023    0.000    3.821    0.000 MCTS.py:42(UCT)\n",
      "    10992    0.053    0.000    0.053    0.000 MCTS.py:43(<listcomp>)\n",
      "  1328919    3.265    0.000    3.265    0.000 MCTS.py:46(<lambda>)\n",
      "        1    0.000    0.000    0.000    0.000 MCTS.py:51(__init__)\n",
      "    20001    0.038    0.000    1.479    0.000 MCTS.py:56(getLegalMoves)\n",
      "        1    0.000    0.000    0.000    0.000 MCTS.py:60(<listcomp>)\n",
      "    20000    1.437    0.000    1.437    0.000 MCTS.py:62(<listcomp>)\n",
      "    20000    0.065    0.000    0.454    0.000 MCTS.py:65(copy)\n",
      "    10000    0.038    0.000    1.072    0.000 MCTS.py:78(Expand)\n",
      "    10001    0.014    0.000    0.641    0.000 MCTS.py:8(__init__)\n",
      "    10000    1.583    0.000   46.050    0.005 MCTS.py:88(Simulate)\n",
      "    10000    0.011    0.000    0.013    0.000 MCTS.py:95(goalValue)\n",
      "50000/30000    0.108    0.000    0.260    0.000 copy.py:132(deepcopy)\n",
      "    20000    0.002    0.000    0.002    0.000 copy.py:190(_deepcopy_atomic)\n",
      "    10000    0.030    0.000    0.074    0.000 copy.py:219(_deepcopy_tuple)\n",
      "    10000    0.011    0.000    0.042    0.000 copy.py:220(<listcomp>)\n",
      "    20000    0.031    0.000    0.035    0.000 copy.py:252(_keep_alive)\n",
      "    10000    0.002    0.000    0.002    0.000 hexboard.py:116(winner)\n",
      "    20000    0.019    0.000    0.019    0.000 hexboard.py:15(<listcomp>)\n",
      "    20000    0.022    0.000    0.022    0.000 hexboard.py:16(<listcomp>)\n",
      "    20000    0.017    0.000    0.017    0.000 hexboard.py:17(<listcomp>)\n",
      "    20000    0.021    0.000    0.021    0.000 hexboard.py:18(<listcomp>)\n",
      "    20000    0.015    0.000    0.049    0.000 hexboard.py:25(matrix)\n",
      "  1074676    1.363    0.000    1.363    0.000 hexboard.py:32(receiveMove)\n",
      "  1084676   17.158    0.000   40.272    0.000 hexboard.py:54(finished)\n",
      "    20000    0.097    0.000    0.225    0.000 hexboard.py:9(__init__)\n",
      "  5665761   18.862    0.000   20.513    0.000 hexboard.py:97(adjazenz)\n",
      "  1063684    0.773    0.000    1.141    0.000 random.py:223(_randbelow)\n",
      "  1063684    0.615    0.000    1.851    0.000 random.py:253(choice)\n",
      "        1    0.000    0.000   52.408   52.408 {built-in method builtins.exec}\n",
      "    20000    0.005    0.000    0.005    0.000 {built-in method builtins.getattr}\n",
      "   100000    0.012    0.000    0.012    0.000 {built-in method builtins.id}\n",
      "    20000    0.004    0.000    0.004    0.000 {built-in method builtins.issubclass}\n",
      " 26425996    1.697    0.000    1.697    0.000 {built-in method builtins.len}\n",
      "        1    0.000    0.000    0.000    0.000 {built-in method builtins.max}\n",
      "    10992    0.480    0.000    3.745    0.000 {built-in method builtins.sorted}\n",
      "    20000    0.034    0.000    0.034    0.000 {built-in method numpy.core.multiarray.zeros}\n",
      "    20000    0.039    0.000    0.039    0.000 {method '__deepcopy__' of 'numpy.ndarray' objects}\n",
      " 24150599    1.803    0.000    1.803    0.000 {method 'append' of 'list' objects}\n",
      "  5695059    0.413    0.000    0.413    0.000 {method 'appendleft' of 'collections.deque' objects}\n",
      "  1063684    0.119    0.000    0.119    0.000 {method 'bit_length' of 'int' objects}\n",
      "        1    0.000    0.000    0.000    0.000 {method 'disable' of '_lsprof.Profiler' objects}\n",
      "   100000    0.018    0.000    0.018    0.000 {method 'get' of 'dict' objects}\n",
      "  1513759    0.249    0.000    0.249    0.000 {method 'getrandbits' of '_random.Random' objects}\n",
      "  5675761    0.439    0.000    0.439    0.000 {method 'pop' of 'collections.deque' objects}\n",
      "  1063684    1.260    0.000    1.260    0.000 {method 'remove' of 'list' objects}\n",
      "\n",
      "\n"
     ]
    }
   ],
   "source": [
    "KI = HexKI(11,11,'inter','MCTS',HexBoard(11,11))\n",
    "KI.string = 'KI'\n",
    "cProfile.run('MCTS(KI)')"
   ]
  },
  {
   "cell_type": "markdown",
   "metadata": {},
   "source": [
    "We see that UCT is taking 1.3 seconds of those 3 sec. And further the lambda from line 46(in UCT) takes 1 sec bc it gets called 400k times! Let's see if we can speed this up with Numba JIT!"
   ]
  },
  {
   "cell_type": "markdown",
   "metadata": {},
   "source": [
    "The UCT lambda function: 2 versions for it and how UCT should work with the non-lambda way"
   ]
  },
  {
   "cell_type": "code",
   "execution_count": 6,
   "metadata": {},
   "outputs": [],
   "source": [
    "UCB = lambda x: x.reward/x.visits + np.sqrt(np.log(self.visits)/x.visits)\n",
    "def func(x, y, z):\n",
    "    return x/y + np.sqrt(np.log(z)/y)"
   ]
  },
  {
   "cell_type": "code",
   "execution_count": 7,
   "metadata": {},
   "outputs": [],
   "source": [
    "jitu = jit()(func)"
   ]
  },
  {
   "cell_type": "code",
   "execution_count": 8,
   "metadata": {},
   "outputs": [
    {
     "data": {
      "text/plain": [
       "1.3464446601125393"
      ]
     },
     "execution_count": 8,
     "metadata": {},
     "output_type": "execute_result"
    }
   ],
   "source": [
    "jitu(2, 3, 4)"
   ]
  },
  {
   "cell_type": "code",
   "execution_count": 9,
   "metadata": {
    "scrolled": true
   },
   "outputs": [
    {
     "name": "stdout",
     "output_type": "stream",
     "text": [
      "func (int64, int64, int64)\n",
      "--------------------------------------------------------------------------------\n",
      "# File: <ipython-input-6-f1befe73a90c>\n",
      "# --- LINE 2 --- \n",
      "# label 0\n",
      "#   del x\n",
      "#   del $0.4\n",
      "#   del $0.6\n",
      "#   del z\n",
      "#   del $0.7\n",
      "#   del y\n",
      "#   del $0.9\n",
      "#   del $0.5\n",
      "#   del $0.11\n",
      "#   del $0.3\n",
      "#   del $0.12\n",
      "#   del $0.13\n",
      "\n",
      "def func(x, y, z):\n",
      "\n",
      "    # --- LINE 3 --- \n",
      "    #   x = arg(0, name=x)  :: int64\n",
      "    #   y = arg(1, name=y)  :: int64\n",
      "    #   z = arg(2, name=z)  :: int64\n",
      "    #   $0.3 = x / y  :: float64\n",
      "    #   $0.4 = global(np: <module 'numpy' from 'C:\\\\Users\\\\Ernst\\\\Anaconda3\\\\lib\\\\site-packages\\\\numpy\\\\__init__.py'>)  :: Module(<module 'numpy' from 'C:\\\\Users\\\\Ernst\\\\Anaconda3\\\\lib\\\\site-packages\\\\numpy\\\\__init__.py'>)\n",
      "    #   $0.5 = getattr(value=$0.4, attr=sqrt)  :: Function(<ufunc 'sqrt'>)\n",
      "    #   $0.6 = global(np: <module 'numpy' from 'C:\\\\Users\\\\Ernst\\\\Anaconda3\\\\lib\\\\site-packages\\\\numpy\\\\__init__.py'>)  :: Module(<module 'numpy' from 'C:\\\\Users\\\\Ernst\\\\Anaconda3\\\\lib\\\\site-packages\\\\numpy\\\\__init__.py'>)\n",
      "    #   $0.7 = getattr(value=$0.6, attr=log)  :: Function(<ufunc 'log'>)\n",
      "    #   $0.9 = call $0.7(z, func=$0.7, args=[Var(z, <ipython-input-6-f1befe73a90c> (3))], kws=(), vararg=None)  :: (int64,) -> float64\n",
      "    #   $0.11 = $0.9 / y  :: float64\n",
      "    #   $0.12 = call $0.5($0.11, func=$0.5, args=[Var($0.11, <ipython-input-6-f1befe73a90c> (3))], kws=(), vararg=None)  :: (float64,) -> float64\n",
      "    #   $0.13 = $0.3 + $0.12  :: float64\n",
      "    #   $0.14 = cast(value=$0.13)  :: float64\n",
      "    #   return $0.14\n",
      "\n",
      "    return x/y + np.sqrt(np.log(z)/y)\n",
      "\n",
      "\n",
      "================================================================================\n"
     ]
    }
   ],
   "source": [
    "jitu.inspect_types()"
   ]
  },
  {
   "cell_type": "code",
   "execution_count": 10,
   "metadata": {},
   "outputs": [],
   "source": [
    "def bad(x, y, z):\n",
    "    for i in range(400000):\n",
    "        func(x, y, z)\n",
    "\n",
    "def bad1(x, y ,z):\n",
    "    for i in range(400000):\n",
    "        jitu(x, y, z)"
   ]
  },
  {
   "cell_type": "code",
   "execution_count": 11,
   "metadata": {},
   "outputs": [
    {
     "name": "stdout",
     "output_type": "stream",
     "text": [
      "1.03 s ± 1.26 ms per loop (mean ± std. dev. of 7 runs, 1 loop each)\n",
      "113 ms ± 383 µs per loop (mean ± std. dev. of 7 runs, 10 loops each)\n"
     ]
    }
   ],
   "source": [
    "plain = %timeit -o bad(2, 3, 4)\n",
    "jitted = %timeit -o bad1(2, 3, 4)"
   ]
  },
  {
   "cell_type": "code",
   "execution_count": 12,
   "metadata": {},
   "outputs": [
    {
     "name": "stdout",
     "output_type": "stream",
     "text": [
      "1.0323849999999997\n",
      "0.11214745999999991\n",
      "9.205603051553735\n"
     ]
    }
   ],
   "source": [
    "print(plain.best)\n",
    "print(jitted.best)\n",
    "print(plain.best/jitted.best)"
   ]
  },
  {
   "cell_type": "code",
   "execution_count": 13,
   "metadata": {},
   "outputs": [],
   "source": [
    "from copy import deepcopy\n",
    "\n",
    "class Node:\n",
    "    def __init__(self, Board = None, pa = None, vis=0.0, rew = 0.0):\n",
    "        self.state = Board\n",
    "        self.parent = pa\n",
    "        self.visits = vis\n",
    "        self.reward = rew\n",
    "        self.children = []\n",
    "        self.unusedmoves = getLegalMoves(self.state)\n",
    "\n",
    "    def addChildren(self, ls, move):\n",
    "        if ls not in self.children:\n",
    "            self.children.append(ls)\n",
    "            self.unusedmoves.remove(move)\n",
    "\n",
    "    def isLeaf(self):\n",
    "        if not self.children:\n",
    "            return True\n",
    "        else:\n",
    "            return False\n",
    "\n",
    "##  Checks if Node in Tree has tried all possible moves atleast once      \n",
    "    def isExpanded(self):\n",
    "        if self.unusedmoves == []:\n",
    "            return True\n",
    "        else:\n",
    "            return False\n",
    "\n",
    "    def isTerminal(self):\n",
    "        if self.state.finished():\n",
    "            return True\n",
    "        else:\n",
    "            return False\n",
    "    \n",
    "##  Handles Exploration vs. Exploitation. Therefore Nodes get selected by\n",
    "##  already known outcome and C adds a possibility Bonus for unexplored Nodes    \n",
    "    def UCT(self):\n",
    "        legalchildren = [child for child in self.children]\n",
    "        if legalchildren == []:\n",
    "            return self \n",
    "        liste = [jitu(x.reward, x.visits, self.visits) for x in legalchildren]\n",
    "        return legalchildren[liste.index(max(liste))]\n",
    "\n",
    "##  Container for Nodes\n",
    "class SearchTree():\n",
    "    def __init__(self, r=None):\n",
    "        self.root = Node(r)\n",
    "        #self.Tree = [self.root]\n",
    "\n",
    "\n",
    "def getLegalMoves(board):\n",
    "    height = len(board.board)\n",
    "    width = len(board.board[0])\n",
    "    if board.zug == 0:\n",
    "        legalmoves = [(i, j) for i in range(height) for j in range(width)]\n",
    "    else:\n",
    "        legalmoves = [(i, j) for i in range(height) for j in range(width) if board.board[i][j] == 0]\n",
    "    return legalmoves\n",
    "\n",
    "def copy(Board):\n",
    "    m = len(Board.board[0])\n",
    "    a, b = Board.zug, Board.no_filled\n",
    "    newBoard = HexBoard(m, m)\n",
    "    newBoard.board = deepcopy(Board.board)\n",
    "    newBoard.starter = Board.starter\n",
    "    newBoard.win = Board.win\n",
    "    newBoard.zug = a\n",
    "    newBoard.lastmove = Board.lastmove\n",
    "    newBoard.no_filled = b\n",
    "    newBoard.swap = Board.swap\n",
    "    return newBoard \n",
    "\n",
    "def Expand(node, Board,\n",
    "           #Tree\n",
    "          ):\n",
    "    Board.receiveMove(random.choice(node.unusedmoves))\n",
    "    newNode = Node(copy(Board), node)\n",
    "    newNode.state.lastmove = deepcopy(Board.lastmove)\n",
    "    node.addChildren(newNode, Board.lastmove)\n",
    "    #Tree.append(newNode)\n",
    "    return newNode\n",
    "\n",
    "def Simulate(legalmoves, Board, KI):\n",
    "    while not Board.finished():\n",
    "        move = random.choice(legalmoves)\n",
    "        Board.receiveMove(move)\n",
    "        legalmoves.remove(move)\n",
    "    return goalValue(Board, KI)\n",
    "\n",
    "def goalValue(Board, KI):\n",
    "    if Board.starter == KI.string:\n",
    "        if Board.swap:\n",
    "            if Board.winner() == 1:\n",
    "                return -1\n",
    "            else:\n",
    "                return 1\n",
    "        else:\n",
    "            if Board.winner() == 1:\n",
    "                return 1\n",
    "            else:\n",
    "                return -1\n",
    "    else:\n",
    "        if Board.swap:\n",
    "            if Board.winner() == 1:\n",
    "                return 1\n",
    "            else:\n",
    "                return -1\n",
    "        else:\n",
    "            if Board.winner() == 1:\n",
    "                return -1\n",
    "            else:\n",
    "                return 1\n",
    "\n",
    "def Backprop(node, R):\n",
    "    node.reward += R\n",
    "    node.visits += 1\n",
    "    if node.parent != None:\n",
    "        return node.parent\n",
    "    else:\n",
    "        return node\n",
    "\n",
    "##  Selection till Node that's not terminal and not expanded\n",
    "##  Expansion of selected Node, it gets expanded by one possible move of\n",
    "##  untried moves and appended to Tree\n",
    "##  Simulation of expanded Node\n",
    "##  Backprop traverses Tree upwards till root, updating simulated outcome\n",
    "##  on every Node on the trace(root within)\n",
    "def MCTS1(KI):\n",
    "    #timelimit = datetime.timedelta(seconds = 5)\n",
    "    #begin = datetime.datetime.now()\n",
    "    #timelimit >= datetime.datetime.now() - begin\n",
    "    S = SearchTree(KI.startState)\n",
    "    cur = S.root\n",
    "    last = cur\n",
    "    i = 0\n",
    "    while i < 10000:\n",
    "        Board = copy(last.state)\n",
    "\n",
    "        #Selection\n",
    "        while last.isExpanded() and not last.isTerminal():\n",
    "            last = last.UCT()\n",
    "            Board.receiveMove(last.state.lastmove)\n",
    "        \n",
    "        #Expansion\n",
    "        if last.unusedmoves and not last.isTerminal():\n",
    "            last = Expand(last, Board\n",
    "            #, S.Tree\n",
    "            )\n",
    "        \n",
    "        #Simulation\n",
    "        legalmoves = getLegalMoves(Board)\n",
    "        R = Simulate(legalmoves, Board, KI)\n",
    "        \n",
    "        #Backpropagation\n",
    "        while last.parent != None:\n",
    "            last = Backprop(last, R)\n",
    "        last = Backprop(last, R)\n",
    "        i += 1\n",
    "    \n",
    "    return max(S.root.children, key = lambda x: x.visits).state.lastmove, i#, S.Tree"
   ]
  },
  {
   "cell_type": "code",
   "execution_count": 17,
   "metadata": {},
   "outputs": [],
   "source": [
    "KI = HexKI(11,11,'inter','MCTS',HexBoard(11,11))\n",
    "KI.string = 'KI'"
   ]
  },
  {
   "cell_type": "code",
   "execution_count": 18,
   "metadata": {
    "scrolled": false
   },
   "outputs": [
    {
     "name": "stdout",
     "output_type": "stream",
     "text": [
      "         77871955 function calls (77851955 primitive calls) in 50.791 seconds\n",
      "\n",
      "   Ordered by: standard name\n",
      "\n",
      "   ncalls  tottime  percall  cumtime  percall filename:lineno(function)\n",
      "    31038    0.021    0.000    0.021    0.000 <ipython-input-13-d55827235358>:115(Backprop)\n",
      "    10000    0.022    0.000    0.049    0.000 <ipython-input-13-d55827235358>:12(addChildren)\n",
      "        1    0.101    0.101   50.791   50.791 <ipython-input-13-d55827235358>:129(MCTS1)\n",
      "      121    0.000    0.000    0.000    0.000 <ipython-input-13-d55827235358>:161(<lambda>)\n",
      "    21038    0.008    0.000    0.008    0.000 <ipython-input-13-d55827235358>:24(isExpanded)\n",
      "    21038    0.017    0.000    0.208    0.000 <ipython-input-13-d55827235358>:30(isTerminal)\n",
      "    11038    0.026    0.000    1.527    0.000 <ipython-input-13-d55827235358>:38(UCT)\n",
      "    11038    0.053    0.000    0.053    0.000 <ipython-input-13-d55827235358>:39(<listcomp>)\n",
      "    10001    0.014    0.000    0.706    0.000 <ipython-input-13-d55827235358>:4(__init__)\n",
      "    11038    1.255    0.000    1.400    0.000 <ipython-input-13-d55827235358>:42(<listcomp>)\n",
      "        1    0.000    0.000    0.000    0.000 <ipython-input-13-d55827235358>:47(__init__)\n",
      "    20001    0.040    0.000    1.546    0.000 <ipython-input-13-d55827235358>:52(getLegalMoves)\n",
      "        1    0.000    0.000    0.000    0.000 <ipython-input-13-d55827235358>:56(<listcomp>)\n",
      "    20000    1.503    0.000    1.503    0.000 <ipython-input-13-d55827235358>:58(<listcomp>)\n",
      "    20000    0.065    0.000    0.456    0.000 <ipython-input-13-d55827235358>:61(copy)\n",
      "    10000    0.037    0.000    1.133    0.000 <ipython-input-13-d55827235358>:74(Expand)\n",
      "    10000    1.600    0.000   46.655    0.005 <ipython-input-13-d55827235358>:84(Simulate)\n",
      "    10000    0.011    0.000    0.013    0.000 <ipython-input-13-d55827235358>:91(goalValue)\n",
      "  1334439    0.146    0.000    0.146    0.000 <ipython-input-6-f1befe73a90c>:2(func)\n",
      "        1    0.000    0.000   50.791   50.791 <string>:1(<module>)\n",
      "50000/30000    0.109    0.000    0.260    0.000 copy.py:132(deepcopy)\n",
      "    20000    0.002    0.000    0.002    0.000 copy.py:190(_deepcopy_atomic)\n",
      "    10000    0.031    0.000    0.075    0.000 copy.py:219(_deepcopy_tuple)\n",
      "    10000    0.010    0.000    0.043    0.000 copy.py:220(<listcomp>)\n",
      "    20000    0.031    0.000    0.035    0.000 copy.py:252(_keep_alive)\n",
      "    10000    0.002    0.000    0.002    0.000 hexboard.py:116(winner)\n",
      "    20000    0.019    0.000    0.019    0.000 hexboard.py:15(<listcomp>)\n",
      "    20000    0.022    0.000    0.022    0.000 hexboard.py:16(<listcomp>)\n",
      "    20000    0.017    0.000    0.017    0.000 hexboard.py:17(<listcomp>)\n",
      "    20000    0.021    0.000    0.021    0.000 hexboard.py:18(<listcomp>)\n",
      "    20000    0.015    0.000    0.050    0.000 hexboard.py:25(matrix)\n",
      "  1076874    1.390    0.000    1.390    0.000 hexboard.py:32(receiveMove)\n",
      "  1086874   17.313    0.000   40.783    0.000 hexboard.py:54(finished)\n",
      "    20000    0.099    0.000    0.229    0.000 hexboard.py:9(__init__)\n",
      "  5687003   19.156    0.000   20.842    0.000 hexboard.py:97(adjazenz)\n",
      "  1065836    0.787    0.000    1.161    0.000 random.py:223(_randbelow)\n",
      "  1065836    0.628    0.000    1.888    0.000 random.py:253(choice)\n",
      "        1    0.000    0.000   50.791   50.791 {built-in method builtins.exec}\n",
      "    20000    0.005    0.000    0.005    0.000 {built-in method builtins.getattr}\n",
      "   100000    0.012    0.000    0.012    0.000 {built-in method builtins.id}\n",
      "    20000    0.004    0.000    0.004    0.000 {built-in method builtins.issubclass}\n",
      " 26499206    1.729    0.000    1.729    0.000 {built-in method builtins.len}\n",
      "    11039    0.033    0.000    0.033    0.000 {built-in method builtins.max}\n",
      "    20000    0.035    0.000    0.035    0.000 {built-in method numpy.core.multiarray.zeros}\n",
      "    20000    0.037    0.000    0.037    0.000 {method '__deepcopy__' of 'numpy.ndarray' objects}\n",
      " 24237354    1.844    0.000    1.844    0.000 {method 'append' of 'list' objects}\n",
      "  5716303    0.414    0.000    0.414    0.000 {method 'appendleft' of 'collections.deque' objects}\n",
      "  1065836    0.122    0.000    0.122    0.000 {method 'bit_length' of 'int' objects}\n",
      "        1    0.000    0.000    0.000    0.000 {method 'disable' of '_lsprof.Profiler' objects}\n",
      "   100000    0.018    0.000    0.018    0.000 {method 'get' of 'dict' objects}\n",
      "  1515121    0.252    0.000    0.252    0.000 {method 'getrandbits' of '_random.Random' objects}\n",
      "    11038    0.013    0.000    0.013    0.000 {method 'index' of 'list' objects}\n",
      "  5697003    0.432    0.000    0.432    0.000 {method 'pop' of 'collections.deque' objects}\n",
      "  1065836    1.268    0.000    1.268    0.000 {method 'remove' of 'list' objects}\n",
      "\n",
      "\n"
     ]
    }
   ],
   "source": [
    "cProfile.run('MCTS1(KI)')"
   ]
  },
  {
   "cell_type": "markdown",
   "metadata": {},
   "source": [
    "Ok our jitted function takes 0.146sec and the normal lambda-version would take 3.265sec. What an improve. But we need to fix the Simulationphase... to be more precise Simulate takes 46.655sec, finished(inside Simulate) takes 40.783sec and adjazenz(inside finished) 20.842sec. Can we fix this via numba? No because those functions dont work with ctypes. Finished is using BFS. There might be a solution by reforming the board."
   ]
  },
  {
   "cell_type": "code",
   "execution_count": null,
   "metadata": {
    "scrolled": true
   },
   "outputs": [],
   "source": []
  },
  {
   "cell_type": "code",
   "execution_count": null,
   "metadata": {},
   "outputs": [],
   "source": []
  },
  {
   "cell_type": "code",
   "execution_count": null,
   "metadata": {},
   "outputs": [],
   "source": []
  },
  {
   "cell_type": "code",
   "execution_count": null,
   "metadata": {},
   "outputs": [],
   "source": []
  },
  {
   "cell_type": "code",
   "execution_count": null,
   "metadata": {},
   "outputs": [],
   "source": []
  },
  {
   "cell_type": "code",
   "execution_count": null,
   "metadata": {},
   "outputs": [],
   "source": []
  },
  {
   "cell_type": "code",
   "execution_count": null,
   "metadata": {},
   "outputs": [],
   "source": []
  },
  {
   "cell_type": "code",
   "execution_count": null,
   "metadata": {
    "scrolled": false
   },
   "outputs": [],
   "source": []
  },
  {
   "cell_type": "code",
   "execution_count": null,
   "metadata": {},
   "outputs": [],
   "source": []
  },
  {
   "cell_type": "code",
   "execution_count": null,
   "metadata": {},
   "outputs": [],
   "source": []
  },
  {
   "cell_type": "code",
   "execution_count": null,
   "metadata": {},
   "outputs": [],
   "source": []
  }
 ],
 "metadata": {
  "kernelspec": {
   "display_name": "Python 3",
   "language": "python",
   "name": "python3"
  },
  "language_info": {
   "codemirror_mode": {
    "name": "ipython",
    "version": 3
   },
   "file_extension": ".py",
   "mimetype": "text/x-python",
   "name": "python",
   "nbconvert_exporter": "python",
   "pygments_lexer": "ipython3",
   "version": "3.6.5"
  }
 },
 "nbformat": 4,
 "nbformat_minor": 2
}
